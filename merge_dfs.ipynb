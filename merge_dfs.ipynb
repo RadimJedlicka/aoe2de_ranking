{
 "cells": [
  {
   "cell_type": "code",
   "execution_count": 68,
   "id": "abd9c756",
   "metadata": {},
   "outputs": [],
   "source": [
    "from datetime import datetime\n",
    "from pprint import pprint\n",
    "import os\n",
    "\n",
    "import pandas as pd"
   ]
  },
  {
   "cell_type": "code",
   "execution_count": 110,
   "id": "58acd6de",
   "metadata": {},
   "outputs": [
    {
     "data": {
      "text/plain": [
       "['data_20230421.csv', 'data_20230422.csv', 'data_20230423.csv']"
      ]
     },
     "execution_count": 110,
     "metadata": {},
     "output_type": "execute_result"
    }
   ],
   "source": [
    "def make_list_from_files(path: str) -> list:\n",
    "    list_of_filenames = []\n",
    "    \n",
    "    for filename in os.listdir(path):\n",
    "        if 'data' in os.path.splitext(filename)[0]:\n",
    "            list_of_filenames.append(filename)\n",
    "            \n",
    "    return list_of_filenames\n"
   ]
  },
  {
   "cell_type": "code",
   "execution_count": 109,
   "id": "b77be6ab",
   "metadata": {},
   "outputs": [],
   "source": [
    "def make_dfs(list_of_filenames: list) -> pd.DataFrame:\n",
    "    dfs = []\n",
    "    \n",
    "    for filename in list_of_filenames:\n",
    "        df = pd.read_csv(f'data/{filename}')\n",
    "        dfs.append(df)\n",
    "    \n",
    "    return dfs\n",
    "    "
   ]
  },
  {
   "cell_type": "code",
   "execution_count": 108,
   "id": "ef6118b6",
   "metadata": {
    "scrolled": true
   },
   "outputs": [],
   "source": [
    "def concat_dfs(list_of_dataframes: list) -> pd.DataFrame:\n",
    "\n",
    "    # Concatenate the DataFrames\n",
    "    concat_df = pd.concat(list_of_dataframes)\n",
    "\n",
    "    return concat_df\n"
   ]
  },
  {
   "cell_type": "code",
   "execution_count": 113,
   "id": "40e5ac0b",
   "metadata": {},
   "outputs": [],
   "source": [
    "def write_concat_dfs_to_csv(concat_df: pd.DataFrame):\n",
    "    \n",
    "    filename = 'all_dataframes.csv'\n",
    "    \n",
    "    concat_df.to_csv(filename, index=False, header=True)"
   ]
  },
  {
   "cell_type": "code",
   "execution_count": 114,
   "id": "0e916584",
   "metadata": {},
   "outputs": [],
   "source": [
    "def main():\n",
    "    path = 'data/'\n",
    "    \n",
    "    list_of_filenames = make_list_from_files(path)\n",
    "    \n",
    "    dfs = make_dfs(list_of_filenames)\n",
    "    \n",
    "    concat_df = concat_dfs(dfs)\n",
    "       \n",
    "    # Write DataFrame to CSV file\n",
    "    write_concat_dfs_to_csv(concat_df)\n",
    "\n",
    "    \n",
    "main()"
   ]
  }
 ],
 "metadata": {
  "kernelspec": {
   "display_name": "Python 3 (ipykernel)",
   "language": "python",
   "name": "python3"
  },
  "language_info": {
   "codemirror_mode": {
    "name": "ipython",
    "version": 3
   },
   "file_extension": ".py",
   "mimetype": "text/x-python",
   "name": "python",
   "nbconvert_exporter": "python",
   "pygments_lexer": "ipython3",
   "version": "3.10.0"
  }
 },
 "nbformat": 4,
 "nbformat_minor": 5
}
